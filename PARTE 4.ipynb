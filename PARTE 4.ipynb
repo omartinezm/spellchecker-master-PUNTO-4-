{
 "cells": [
  {
   "cell_type": "code",
   "execution_count": 1,
   "metadata": {},
   "outputs": [],
   "source": [
    "import numpy as np\n",
    "from numpy import linalg as la\n",
    "from string import ascii_lowercase\n",
    "from spell_checker import *\n",
    "\n",
    "# Lista con vectores pre-entrenados de palabras: obtenido de la página\n",
    "# https://www.kaggle.com/rtatman/pretrained-word-vectors-for-spanish\n",
    "f = open(\"SBW-vectors-300-min5.txt\", \"r\", encoding=\"utf8\") #\n",
    "\n",
    "\n",
    "# Cantidad de vectores y entradas por vector\n",
    "n_words,n_entries=list(map(int,f.readline().split(\" \"))) \n",
    "\n",
    "# Diccionario con los vectores\n",
    "w2v={} \n",
    "for i in range(n_words):\n",
    "    tl=f.readline().split(\" \")\n",
    "    w2v[tl[0]]=list(map(float,tl[1:]))\n",
    "f.close()\n",
    "\n",
    "# Lista de posibles palabras\n",
    "WORD_LIST=list(w2v.keys())"
   ]
  },
  {
   "cell_type": "code",
   "execution_count": 2,
   "metadata": {},
   "outputs": [],
   "source": [
    "#Se actualiza la lista de palabras en la rutina que corrige las frases.\n",
    "for word in WORD_LIST:\n",
    "    if word in WORDS_INDEX:\n",
    "        pass#WORDS_INDEX.update({word:WORDS_INDEX[word]+ 1})\n",
    "    else:\n",
    "        WORDS_INDEX[word] = 1"
   ]
  },
  {
   "cell_type": "code",
   "execution_count": 3,
   "metadata": {},
   "outputs": [],
   "source": [
    "# Definimos la distancia entre palabras\n",
    "def distance(v1,v2):\n",
    "    \"\"\" Mide la distancia entre las palabras.\n",
    "    \n",
    "        Acá hay varias formas de medirlas, nos quedamos con el coseno.\n",
    "    \n",
    "        Parametros:\n",
    "        -----------\n",
    "        v1: list\n",
    "            vector de floats\n",
    "        v2: list\n",
    "            vector de floats\n",
    "    \"\"\"\n",
    "    return np.dot(v1,v2)/(la.norm(v1)*la.norm(v2))"
   ]
  },
  {
   "cell_type": "code",
   "execution_count": 4,
   "metadata": {},
   "outputs": [],
   "source": [
    "# Definimos la similaridad de una palabra con un cada palabra de una frase\n",
    "def similarity(v1,s):\n",
    "    \"\"\" Mide la similaridad de una palabra con cada palabra de una frase dada\n",
    "        \n",
    "        Parametros:\n",
    "        -----------\n",
    "        v1: string\n",
    "            palabra a comparar\n",
    "        s: list\n",
    "            frase a comparar\n",
    "    \"\"\"\n",
    "    #return list(set(1/(1+distance(w2v[v1],w2v[x])) for x in v2))\n",
    "    return list(set(np.dot(w2v[v1],w2v[x])/(la.norm(w2v[v1])*la.norm(w2v[x])) for x in s))"
   ]
  },
  {
   "cell_type": "code",
   "execution_count": 5,
   "metadata": {},
   "outputs": [],
   "source": [
    "# Medimos la similaridad entre dos frases completas\n",
    "def measureSimilarity(s1,s2):\n",
    "    \"\"\" Mide la similaridad de contenido y motivo entre dos frases\n",
    "        \n",
    "        La forma en la cual se calcula es midiendo la fuerza de contexto que tiene una\n",
    "        frase en la otra. Es decir, con qué fuerza poddemos cambiar algunas palabras de\n",
    "        una frase por las palabras de la otra.\n",
    "        \n",
    "        Esto se basa en una extensión del método Word2Vec (https://code.google.com/archive/p/word2vec/)\n",
    "        de Google. El cual transforma una palabra en un vector que mide la fuerza de relación\n",
    "        con otras palabras.\n",
    "        \n",
    "        La implementación acá dada es una modificación de la mostrada por I. Sánchez en un trabajo\n",
    "        de grado.\n",
    "        \n",
    "        Parametros:\n",
    "        s1: list\n",
    "            Primera frase\n",
    "        s2: list\n",
    "            Segunda frase\n",
    "    \"\"\"\n",
    "    ss1=list(map(lambda x : x.strip('.,?¿%$¡!'), s1.split()))\n",
    "    ss2 = list(map(lambda x : x.strip('.,?¿%$¡!'), s2.split()))\n",
    "    s=ss1+ss2\n",
    "    bow=[]\n",
    "    for i in range(len(s)):\n",
    "        bow.append(0) #Inicializamos el vector de comparación en ceros\n",
    "    for i in range(len(ss1)): #Empezamos con la primera frase\n",
    "        if ss1[i] in WORD_LIST and all(x in WORD_LIST for x in ss2):\n",
    "            bow[i]=max(similarity(ss1[i],ss2))\n",
    "            # Si la palabra no está en la frase, vemos qué similaridad tiene con las palabras de la frase\n",
    "    for i in range(len(ss2)): #Ahora revisamos la segunda frase\n",
    "        if ss2[i] in WORD_LIST and all(x in WORD_LIST for x in ss1):\n",
    "            bow[i+len(ss1)]=max(similarity(ss2[i],ss1))\n",
    "    sim = sum(bow)/len(bow)\n",
    "    return sim"
   ]
  },
  {
   "cell_type": "code",
   "execution_count": 6,
   "metadata": {},
   "outputs": [
    {
     "data": {
      "text/plain": [
       "1.0"
      ]
     },
     "execution_count": 6,
     "metadata": {},
     "output_type": "execute_result"
    }
   ],
   "source": [
    "measureSimilarity(\"hola\",\"hola\")"
   ]
  },
  {
   "cell_type": "code",
   "execution_count": 7,
   "metadata": {},
   "outputs": [],
   "source": [
    "def bestChoice(options,answer):\n",
    "    \"\"\" Selecciona la frase más parecida a la respuesta dada\n",
    "        \n",
    "        Basado en las opciones y en la respuesta dada, la función crea un vector\n",
    "        de similaridades. La i-ésima entrada es la similaridad de la i-ésima frase\n",
    "        con la respuesta. Este vector contiene números de cero a uno, entre más\n",
    "        grande más similares son las frases.\n",
    "        \n",
    "        Caso 1: Hay dos frases en las opciones\n",
    "            En este caso se compara la diferencia entre las dos entradas. Si esta\n",
    "            diferencia es máyor a 0.05 se considera que la frase con más similaridad\n",
    "            es una opción válida. En caso contrario no hay similaridad.\n",
    "        Caso 2: Hay más de dos frases en las opciones\n",
    "            Se estan estándariza el vector a un distribución normal estándar. Si la\n",
    "            frase con mayor similitud está alejada una desviación estándar de la media\n",
    "            enctonces se toma como opción válida. En casi contrario no hay similaridad\n",
    "        \n",
    "        Esta distinción se hace porque el método de estandarización no tiene sentido\n",
    "        cuando son dos datos.\n",
    "        \n",
    "        Los umbrales se escogieron basados en una regresión que se hizo con pocos\n",
    "        datos. Estoy seguro que con más datos y una revisión más minuciosa se puede\n",
    "        lograr un modelo más robusto.\n",
    "        \n",
    "        Parámetros:\n",
    "        -----------\n",
    "        options: list\n",
    "            Lista con las opciones de frases posibles dadas por el sistema\n",
    "        answer: str\n",
    "            Respuesta dada por el usuario.\n",
    "    \"\"\"\n",
    "    sim=[]\n",
    "    for op in options:\n",
    "        sim.append(measureSimilarity(spell_check_sentence(op.lower()),spell_check_sentence(answer.lower())))\n",
    "    maxsim=max(sim)\n",
    "    minsim=min(sim)\n",
    "    mean=np.mean(sim)\n",
    "    std=np.std(sim)\n",
    "    ust=(sim-mean)/std\n",
    "    if(len(options)==2):\n",
    "        if(maxsim-minsim>0.05):\n",
    "            return options[sim.index(maxsim)]\n",
    "        else:\n",
    "            return \"ninguno\"\n",
    "    if(max(ust)>1.0):\n",
    "        return options[sim.index(maxsim)]\n",
    "    else:\n",
    "        return \"ninguno\""
   ]
  },
  {
   "cell_type": "code",
   "execution_count": 8,
   "metadata": {},
   "outputs": [
    {
     "data": {
      "text/plain": [
       "'ninguno'"
      ]
     },
     "execution_count": 8,
     "metadata": {},
     "output_type": "execute_result"
    }
   ],
   "source": [
    "bestChoice([\"sí\",\"no\"],\"acepto\")"
   ]
  },
  {
   "cell_type": "code",
   "execution_count": 9,
   "metadata": {},
   "outputs": [
    {
     "data": {
      "text/plain": [
       "'Un problema con el pago'"
      ]
     },
     "execution_count": 9,
     "metadata": {},
     "output_type": "execute_result"
    }
   ],
   "source": [
    "bestChoice([\"Un problema con el pago\",\"Una problema con la entrega\",\"Un problema con el producto\",\"Otro tipo de problema\"],\n",
    "          \"Mi tarjet de crédito no pasó\")"
   ]
  },
  {
   "cell_type": "code",
   "execution_count": 10,
   "metadata": {},
   "outputs": [
    {
     "data": {
      "text/plain": [
       "'Marta quiere salvar las abejas'"
      ]
     },
     "execution_count": 10,
     "metadata": {},
     "output_type": "execute_result"
    }
   ],
   "source": [
    "bestChoice([\"Los ratones traen enfermedades\", \"las abejas son importantes\", \"Luis quiere matar los ratones\",\n",
    "              \"Marta quiere salvar las abejas\"], \"sin abejas nuestro mundo morirá\")"
   ]
  },
  {
   "cell_type": "code",
   "execution_count": 11,
   "metadata": {},
   "outputs": [
    {
     "data": {
      "text/plain": [
       "'Un problema con el pago'"
      ]
     },
     "execution_count": 11,
     "metadata": {},
     "output_type": "execute_result"
    }
   ],
   "source": [
    "bestChoice([\"Un problema con el pago\",\"Una problema con la entrega\",\n",
    "            \"Un problema con el producto\",\"Otro tipo de problema\"],\n",
    "          \"No pude pagar\")"
   ]
  },
  {
   "cell_type": "code",
   "execution_count": 12,
   "metadata": {},
   "outputs": [
    {
     "data": {
      "text/plain": [
       "'Otro tipo de problema'"
      ]
     },
     "execution_count": 12,
     "metadata": {},
     "output_type": "execute_result"
    }
   ],
   "source": [
    "bestChoice([\"Un problema con el pago\",\"Una problema con la entrega\",\n",
    "            \"Un problema con el producto\",\"Otro tipo de problema\"],\n",
    "          \"No pude correr\")"
   ]
  },
  {
   "cell_type": "code",
   "execution_count": 13,
   "metadata": {},
   "outputs": [
    {
     "data": {
      "text/plain": [
       "'Un problema con el pago'"
      ]
     },
     "execution_count": 13,
     "metadata": {},
     "output_type": "execute_result"
    }
   ],
   "source": [
    "bestChoice([\"Un problema con el pago\",\"Una problema con la entrega\",\n",
    "            \"Un problema con el producto\",\"Otro tipo de problema\"],\n",
    "          \"tengo que pagar\")"
   ]
  },
  {
   "cell_type": "code",
   "execution_count": 14,
   "metadata": {},
   "outputs": [
    {
     "data": {
      "text/plain": [
       "'Una problema con la entrega'"
      ]
     },
     "execution_count": 14,
     "metadata": {},
     "output_type": "execute_result"
    }
   ],
   "source": [
    "bestChoice([\"Un problema con el pago\",\"Una problema con la entrega\",\n",
    "            \"Un problema con el producto\",\"Otro tipo de problema\"],\n",
    "          \"no me lo entregaron\")"
   ]
  },
  {
   "cell_type": "code",
   "execution_count": 15,
   "metadata": {},
   "outputs": [
    {
     "data": {
      "text/plain": [
       "'ninguno'"
      ]
     },
     "execution_count": 15,
     "metadata": {},
     "output_type": "execute_result"
    }
   ],
   "source": [
    "bestChoice([\"Un problema con el pago\",\"Una problema con la entrega\",\n",
    "            \"Un problema con el producto\",\"Otro tipo de problema\"],\n",
    "          \"está tardando en llegar\")"
   ]
  },
  {
   "cell_type": "code",
   "execution_count": 16,
   "metadata": {
    "scrolled": true
   },
   "outputs": [
    {
     "data": {
      "text/plain": [
       "'El pez tiene hambre'"
      ]
     },
     "execution_count": 16,
     "metadata": {},
     "output_type": "execute_result"
    }
   ],
   "source": [
    "bestChoice([\"El pez tiene hambre\", \"mi hermana es fastidiosa\", \"el perro del vecino ladra fuerte\",\n",
    "              \"la vecina me odia\"], \"el pez come zooplankton\")"
   ]
  },
  {
   "cell_type": "code",
   "execution_count": 17,
   "metadata": {},
   "outputs": [
    {
     "data": {
      "text/plain": [
       "'Aristóteles estaba equivocado'"
      ]
     },
     "execution_count": 17,
     "metadata": {},
     "output_type": "execute_result"
    }
   ],
   "source": [
    "bestChoice([\"Fabiola canta una canción\",\"Las salamandras caminan en fuego\",\"Bailar ayuda a mejorar la salud\",\n",
    "              \"Aristóteles estaba equivocado\"], \"marta murió\")"
   ]
  },
  {
   "cell_type": "code",
   "execution_count": 18,
   "metadata": {},
   "outputs": [
    {
     "data": {
      "text/plain": [
       "'Una problema con la entrega'"
      ]
     },
     "execution_count": 18,
     "metadata": {},
     "output_type": "execute_result"
    }
   ],
   "source": [
    "bestChoice([\"Un problema con el pago\",\"Una problema con la entrega\",\n",
    "            \"Un problema con el producto\",\"Otro tipo de problema\"],\n",
    "          \"Hola a todos\")"
   ]
  },
  {
   "cell_type": "code",
   "execution_count": 19,
   "metadata": {},
   "outputs": [
    {
     "data": {
      "text/plain": [
       "'Estan arreglado la calle'"
      ]
     },
     "execution_count": 19,
     "metadata": {},
     "output_type": "execute_result"
    }
   ],
   "source": [
    "bestChoice([\"Estan arreglado la calle\", \"los zancudos son estresantes\", \"la raqueta eléctrica mata los insectos\",\n",
    "              \"tengo hambre y no está el almuerzo\"], \"la calle está cerrada\")"
   ]
  },
  {
   "cell_type": "code",
   "execution_count": 20,
   "metadata": {},
   "outputs": [
    {
     "data": {
      "text/plain": [
       "'ninguno'"
      ]
     },
     "execution_count": 20,
     "metadata": {},
     "output_type": "execute_result"
    }
   ],
   "source": [
    "bestChoice([\"Martín con el rostro amargado\",\"Anduvo rondando la casa\",\"Hace mucho frío\",\n",
    "              \"Un muchacho besaba a una chica\"],\"Su desaliento culminó\")"
   ]
  },
  {
   "cell_type": "code",
   "execution_count": 24,
   "metadata": {},
   "outputs": [
    {
     "data": {
      "text/plain": [
       "'sí'"
      ]
     },
     "execution_count": 24,
     "metadata": {},
     "output_type": "execute_result"
    }
   ],
   "source": [
    "bestChoice([\"no\",\"sí\"],\"correcto\")"
   ]
  },
  {
   "cell_type": "markdown",
   "metadata": {},
   "source": [
    "### Not implemented\n",
    "\n",
    "```python\n",
    "def compareSentences(s1,s2):\n",
    "    \"\"\" Compara la similaridad de \n",
    "    \"\"\"\n",
    "    ss1 = list(map(lambda x : x.strip('.,?¿%$¡!'), s1.split()))\n",
    "    ss2 = list(map(lambda x : x.strip('.,?¿%$¡!'), s2.split()))\n",
    "    return measureSimilarity(ss1,ss2)\n",
    "```"
   ]
  },
  {
   "cell_type": "code",
   "execution_count": 53,
   "metadata": {},
   "outputs": [],
   "source": [
    "import json\n",
    "json_string = json.dumps(\"sí\", ensure_ascii=False).encode('utf8')"
   ]
  },
  {
   "cell_type": "code",
   "execution_count": 54,
   "metadata": {},
   "outputs": [
    {
     "name": "stdout",
     "output_type": "stream",
     "text": [
      "b'\"s\\xc3\\xad\"'\n"
     ]
    }
   ],
   "source": [
    "print(json_string)"
   ]
  },
  {
   "cell_type": "code",
   "execution_count": 55,
   "metadata": {},
   "outputs": [
    {
     "data": {
      "text/plain": [
       "'\"sí\"'"
      ]
     },
     "execution_count": 55,
     "metadata": {},
     "output_type": "execute_result"
    }
   ],
   "source": [
    "json_string.decode()"
   ]
  },
  {
   "cell_type": "code",
   "execution_count": null,
   "metadata": {},
   "outputs": [],
   "source": []
  }
 ],
 "metadata": {
  "kernelspec": {
   "display_name": "Python 3",
   "language": "python",
   "name": "python3"
  },
  "language_info": {
   "codemirror_mode": {
    "name": "ipython",
    "version": 3
   },
   "file_extension": ".py",
   "mimetype": "text/x-python",
   "name": "python",
   "nbconvert_exporter": "python",
   "pygments_lexer": "ipython3",
   "version": "3.7.3"
  }
 },
 "nbformat": 4,
 "nbformat_minor": 2
}
